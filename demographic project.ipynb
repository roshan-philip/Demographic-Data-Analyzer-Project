{
 "cells": [
  {
   "cell_type": "code",
   "execution_count": 1,
   "id": "c00d1c44",
   "metadata": {},
   "outputs": [
    {
     "data": {
      "text/plain": [
       "race\n",
       "Amer-Indian-Eskimo      311\n",
       "Asian-Pac-Islander     1039\n",
       "Black                  3124\n",
       "Other                   271\n",
       "White                 27816\n",
       "dtype: int64"
      ]
     },
     "execution_count": 1,
     "metadata": {},
     "output_type": "execute_result"
    }
   ],
   "source": [
    "import pandas as pd\n",
    "df = pd.read_csv('adult.data.csv')\n",
    "df.index = df['race']\n",
    "race_counts = df.groupby(df.index).size()\n",
    "race_counts"
   ]
  },
  {
   "cell_type": "code",
   "execution_count": 2,
   "id": "ac962193",
   "metadata": {},
   "outputs": [],
   "source": [
    "df = pd.read_csv('adult.data.csv')"
   ]
  },
  {
   "cell_type": "code",
   "execution_count": 3,
   "id": "024efbef",
   "metadata": {},
   "outputs": [
    {
     "name": "stdout",
     "output_type": "stream",
     "text": [
      "       age         workclass  fnlwgt   education  education-num  \\\n",
      "0       39         State-gov   77516   Bachelors             13   \n",
      "1       50  Self-emp-not-inc   83311   Bachelors             13   \n",
      "2       38           Private  215646     HS-grad              9   \n",
      "3       53           Private  234721        11th              7   \n",
      "4       28           Private  338409   Bachelors             13   \n",
      "...    ...               ...     ...         ...            ...   \n",
      "32556   27           Private  257302  Assoc-acdm             12   \n",
      "32557   40           Private  154374     HS-grad              9   \n",
      "32558   58           Private  151910     HS-grad              9   \n",
      "32559   22           Private  201490     HS-grad              9   \n",
      "32560   52      Self-emp-inc  287927     HS-grad              9   \n",
      "\n",
      "           marital-status         occupation   relationship   race     sex  \\\n",
      "0           Never-married       Adm-clerical  Not-in-family  White    Male   \n",
      "1      Married-civ-spouse    Exec-managerial        Husband  White    Male   \n",
      "2                Divorced  Handlers-cleaners  Not-in-family  White    Male   \n",
      "3      Married-civ-spouse  Handlers-cleaners        Husband  Black    Male   \n",
      "4      Married-civ-spouse     Prof-specialty           Wife  Black  Female   \n",
      "...                   ...                ...            ...    ...     ...   \n",
      "32556  Married-civ-spouse       Tech-support           Wife  White  Female   \n",
      "32557  Married-civ-spouse  Machine-op-inspct        Husband  White    Male   \n",
      "32558             Widowed       Adm-clerical      Unmarried  White  Female   \n",
      "32559       Never-married       Adm-clerical      Own-child  White    Male   \n",
      "32560  Married-civ-spouse    Exec-managerial           Wife  White  Female   \n",
      "\n",
      "       capital-gain  capital-loss  hours-per-week native-country salary  \n",
      "0              2174             0              40  United-States  <=50K  \n",
      "1                 0             0              13  United-States  <=50K  \n",
      "2                 0             0              40  United-States  <=50K  \n",
      "3                 0             0              40  United-States  <=50K  \n",
      "4                 0             0              40           Cuba  <=50K  \n",
      "...             ...           ...             ...            ...    ...  \n",
      "32556             0             0              38  United-States  <=50K  \n",
      "32557             0             0              40  United-States   >50K  \n",
      "32558             0             0              40  United-States  <=50K  \n",
      "32559             0             0              20  United-States  <=50K  \n",
      "32560         15024             0              40  United-States   >50K  \n",
      "\n",
      "[32561 rows x 15 columns]\n"
     ]
    }
   ],
   "source": [
    "print(df)"
   ]
  },
  {
   "cell_type": "code",
   "execution_count": 5,
   "id": "ff450089",
   "metadata": {},
   "outputs": [
    {
     "data": {
      "text/plain": [
       "RangeIndex(start=0, stop=32561, step=1)"
      ]
     },
     "execution_count": 5,
     "metadata": {},
     "output_type": "execute_result"
    }
   ],
   "source": [
    "df.index"
   ]
  },
  {
   "cell_type": "code",
   "execution_count": 6,
   "id": "f6db51a4",
   "metadata": {},
   "outputs": [
    {
     "data": {
      "text/plain": [
       "0        White\n",
       "1        White\n",
       "2        White\n",
       "3        Black\n",
       "4        Black\n",
       "         ...  \n",
       "32556    White\n",
       "32557    White\n",
       "32558    White\n",
       "32559    White\n",
       "32560    White\n",
       "Name: race, Length: 32561, dtype: object"
      ]
     },
     "execution_count": 6,
     "metadata": {},
     "output_type": "execute_result"
    }
   ],
   "source": [
    "df['race']"
   ]
  },
  {
   "cell_type": "code",
   "execution_count": 6,
   "id": "3bf2d57d",
   "metadata": {},
   "outputs": [
    {
     "data": {
      "text/plain": [
       "race\n",
       "Amer-Indian-Eskimo      311\n",
       "Asian-Pac-Islander     1039\n",
       "Black                  3124\n",
       "Other                   271\n",
       "White                 27816\n",
       "dtype: int64"
      ]
     },
     "execution_count": 6,
     "metadata": {},
     "output_type": "execute_result"
    }
   ],
   "source": [
    "#1\n",
    "df.index = df['race']\n",
    "race_counts = df.groupby(df.index).size()\n",
    "race_counts"
   ]
  },
  {
   "cell_type": "code",
   "execution_count": 7,
   "id": "82cea971",
   "metadata": {},
   "outputs": [
    {
     "data": {
      "text/plain": [
       "39.43354749885268"
      ]
     },
     "execution_count": 7,
     "metadata": {},
     "output_type": "execute_result"
    }
   ],
   "source": [
    "#2\n",
    "df[df['sex'] == 'Male']['age'].mean()"
   ]
  },
  {
   "cell_type": "code",
   "execution_count": 8,
   "id": "5bc1d0d9",
   "metadata": {},
   "outputs": [
    {
     "data": {
      "text/plain": [
       "16.44605509658794"
      ]
     },
     "execution_count": 8,
     "metadata": {},
     "output_type": "execute_result"
    }
   ],
   "source": [
    "#3\n",
    "bachelor_count = df[df['education'] == 'Bachelors'].shape[0]\n",
    "total_count = df.shape[0]\n",
    "bachelor_percentage = (bachelor_count/total_count)*100\n",
    "bachelor_percentage"
   ]
  },
  {
   "cell_type": "code",
   "execution_count": 9,
   "id": "2e2b967f",
   "metadata": {},
   "outputs": [
    {
     "data": {
      "text/plain": [
       "10.706059396210192"
      ]
     },
     "execution_count": 9,
     "metadata": {},
     "output_type": "execute_result"
    }
   ],
   "source": [
    "#4\n",
    "ed = pd.concat([df[df['education'] == 'Bachelors'],df[df['education'] == 'Masters'],df[df['education'] == 'Doctorate']], axis=0)\n",
    "ed_count = ed[ed['salary'] == '>50K'].shape[0]\n",
    "ed_percentage = (ed_count/total_count)*100\n",
    "ed_percentage"
   ]
  },
  {
   "cell_type": "code",
   "execution_count": 18,
   "id": "5ad69ec4",
   "metadata": {},
   "outputs": [
    {
     "data": {
      "text/plain": [
       "61.53680783759713"
      ]
     },
     "execution_count": 18,
     "metadata": {},
     "output_type": "execute_result"
    }
   ],
   "source": [
    "#5\n",
    "noned = pd.concat([df[df['education'] != 'Bachelors'],df[df['education'] != 'Masters'],df[df['education'] != 'Doctorate']], axis=0)\n",
    "noned_count = noned[noned['salary'] == '>50K'].shape[0]\n",
    "noned_percentage = (noned_count/total_count)*100\n",
    "noned_percentage"
   ]
  },
  {
   "cell_type": "code",
   "execution_count": 37,
   "id": "a436ad1d",
   "metadata": {},
   "outputs": [
    {
     "data": {
      "text/plain": [
       "0.006142317496391388"
      ]
     },
     "execution_count": 37,
     "metadata": {},
     "output_type": "execute_result"
    }
   ],
   "source": [
    "#6\n",
    "min_hours = df[df['hours-per-week'] == df['hours-per-week'].min()]\n",
    "min_hours_counts = min_hours[min_hours['salary'] == '>50K'].shape[0]\n",
    "min_hours_percentage = (min_hours_counts/total_count)*100\n",
    "min_hours_percentage"
   ]
  },
  {
   "cell_type": "code",
   "execution_count": 69,
   "id": "b9f12249",
   "metadata": {},
   "outputs": [
    {
     "data": {
      "text/plain": [
       "91.45517153424308"
      ]
     },
     "execution_count": 69,
     "metadata": {},
     "output_type": "execute_result"
    }
   ],
   "source": [
    "#7\n",
    "high_salary = df[df['salary'] == '>50K']\n",
    "totalhigh_salary = high_salary.shape[0]\n",
    "group_country = high_salary.groupby(high_salary['native-country']).size()\n",
    "max_country = group_country.max()\n",
    "max_percent = (max_country/totalhigh_salary)*100\n",
    "max_percent"
   ]
  },
  {
   "cell_type": "code",
   "execution_count": 108,
   "id": "c14a44bf",
   "metadata": {},
   "outputs": [
    {
     "data": {
      "text/plain": [
       "occupation\n",
       "Adm-clerical         1\n",
       "Exec-managerial      8\n",
       "Other-service        2\n",
       "Prof-specialty      25\n",
       "Sales                1\n",
       "Tech-support         2\n",
       "Transport-moving     1\n",
       "dtype: int64"
      ]
     },
     "execution_count": 108,
     "metadata": {},
     "output_type": "execute_result"
    }
   ],
   "source": [
    "#8\n",
    "india_salary = high_salary[high_salary['native-country'] == 'India']\n",
    "group_india = india_salary.groupby(india_salary['occupation']).size()\n",
    "group_india"
   ]
  }
 ],
 "metadata": {
  "kernelspec": {
   "display_name": "Python 3 (ipykernel)",
   "language": "python",
   "name": "python3"
  },
  "language_info": {
   "codemirror_mode": {
    "name": "ipython",
    "version": 3
   },
   "file_extension": ".py",
   "mimetype": "text/x-python",
   "name": "python",
   "nbconvert_exporter": "python",
   "pygments_lexer": "ipython3",
   "version": "3.9.13"
  }
 },
 "nbformat": 4,
 "nbformat_minor": 5
}
